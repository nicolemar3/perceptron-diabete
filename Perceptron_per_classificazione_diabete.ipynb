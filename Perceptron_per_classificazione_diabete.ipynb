{
  "nbformat": 4,
  "nbformat_minor": 0,
  "metadata": {
    "colab": {
      "provenance": [],
      "authorship_tag": "ABX9TyMRLH/XrOih6nrCgIvImwzN",
      "include_colab_link": true
    },
    "kernelspec": {
      "name": "python3",
      "display_name": "Python 3"
    },
    "language_info": {
      "name": "python"
    }
  },
  "cells": [
    {
      "cell_type": "markdown",
      "metadata": {
        "id": "view-in-github",
        "colab_type": "text"
      },
      "source": [
        "<a href=\"https://colab.research.google.com/github/nicolemar3/perceptron-diabete/blob/main/Perceptron_per_classificazione_diabete.ipynb\" target=\"_parent\"><img src=\"https://colab.research.google.com/assets/colab-badge.svg\" alt=\"Open In Colab\"/></a>"
      ]
    },
    {
      "cell_type": "markdown",
      "source": [
        "#Rilevazione del diabete con Perceptron"
      ],
      "metadata": {
        "id": "Zhly4Gu6TicD"
      }
    },
    {
      "cell_type": "markdown",
      "source": [
        " Dataset: Pima Indians Diabetes.\n"
      ],
      "metadata": {
        "id": "ff4b6WP0Tz9c"
      }
    },
    {
      "cell_type": "markdown",
      "source": [
        "Il Perceptron è un modello usato per i problemi di classificazione binaria. Mappa gli ingressi in un valore scalare di output pari a: \\begin{cases} 1 & \\text{se } \\mathbf{w} \\cdot \\mathbf{x} + b > 0 \\\\ 0 & \\text{altrimenti} \\end{cases}\n",
        "\n",
        "\n",
        "\n",
        "\n",
        "\n",
        " Costruiremo un modello di classificazione per predire la presenza di diabete in un paziente utilizzando il Perceptron"
      ],
      "metadata": {
        "id": "Il8wIezZPHH6"
      }
    },
    {
      "cell_type": "code",
      "source": [
        "import pandas as pd\n",
        "from sklearn.linear_model import Perceptron\n",
        "from sklearn.model_selection import train_test_split\n",
        "from sklearn.metrics import accuracy_score, confusion_matrix\n",
        "\n",
        "url='https://raw.githubusercontent.com/jbrownlee/Datasets/master/pima-indians-diabetes.csv'\n",
        "\n",
        "# Definisco i nomi delle colonne.\n",
        "column_names= ['Gravidanze',\n",
        "               'Glicemia',\n",
        "               'Pressione sanguigna',\n",
        "               'Spessore cutaneo',\n",
        "               'Insulina',\n",
        "               'Indice di Massa Corporea',\n",
        "               'Funzione di predisposizione ereditaria',\n",
        "               'Etá',\n",
        "               'Esito' ] #1: presenza di diabete\n",
        "\n",
        "df= pd.read_csv(url, header=None, names= column_names)\n",
        "\n",
        "df.head()"
      ],
      "metadata": {
        "colab": {
          "base_uri": "https://localhost:8080/",
          "height": 223
        },
        "id": "kK6E4-gIVGIN",
        "outputId": "995c473d-c209-4759-fd0e-05e28bd6ed4c"
      },
      "execution_count": null,
      "outputs": [
        {
          "output_type": "execute_result",
          "data": {
            "text/plain": [
              "   Gravidanze  Glicemia  ...  Etá  Esito\n",
              "0           6       148  ...   50      1\n",
              "1           1        85  ...   31      0\n",
              "2           8       183  ...   32      1\n",
              "3           1        89  ...   21      0\n",
              "4           0       137  ...   33      1\n",
              "\n",
              "[5 rows x 9 columns]"
            ],
            "text/html": [
              "\n",
              "  <div id=\"df-e0940e75-1bee-4fbc-b37e-a975450e23ed\" class=\"colab-df-container\">\n",
              "    <div>\n",
              "<style scoped>\n",
              "    .dataframe tbody tr th:only-of-type {\n",
              "        vertical-align: middle;\n",
              "    }\n",
              "\n",
              "    .dataframe tbody tr th {\n",
              "        vertical-align: top;\n",
              "    }\n",
              "\n",
              "    .dataframe thead th {\n",
              "        text-align: right;\n",
              "    }\n",
              "</style>\n",
              "<table border=\"1\" class=\"dataframe\">\n",
              "  <thead>\n",
              "    <tr style=\"text-align: right;\">\n",
              "      <th></th>\n",
              "      <th>Gravidanze</th>\n",
              "      <th>Glicemia</th>\n",
              "      <th>Pressione sanguigna</th>\n",
              "      <th>Spessore cutaneo</th>\n",
              "      <th>Insulina</th>\n",
              "      <th>Indice di Massa Corporea</th>\n",
              "      <th>Funzione di predisposizione ereditaria</th>\n",
              "      <th>Etá</th>\n",
              "      <th>Esito</th>\n",
              "    </tr>\n",
              "  </thead>\n",
              "  <tbody>\n",
              "    <tr>\n",
              "      <th>0</th>\n",
              "      <td>6</td>\n",
              "      <td>148</td>\n",
              "      <td>72</td>\n",
              "      <td>35</td>\n",
              "      <td>0</td>\n",
              "      <td>33.6</td>\n",
              "      <td>0.627</td>\n",
              "      <td>50</td>\n",
              "      <td>1</td>\n",
              "    </tr>\n",
              "    <tr>\n",
              "      <th>1</th>\n",
              "      <td>1</td>\n",
              "      <td>85</td>\n",
              "      <td>66</td>\n",
              "      <td>29</td>\n",
              "      <td>0</td>\n",
              "      <td>26.6</td>\n",
              "      <td>0.351</td>\n",
              "      <td>31</td>\n",
              "      <td>0</td>\n",
              "    </tr>\n",
              "    <tr>\n",
              "      <th>2</th>\n",
              "      <td>8</td>\n",
              "      <td>183</td>\n",
              "      <td>64</td>\n",
              "      <td>0</td>\n",
              "      <td>0</td>\n",
              "      <td>23.3</td>\n",
              "      <td>0.672</td>\n",
              "      <td>32</td>\n",
              "      <td>1</td>\n",
              "    </tr>\n",
              "    <tr>\n",
              "      <th>3</th>\n",
              "      <td>1</td>\n",
              "      <td>89</td>\n",
              "      <td>66</td>\n",
              "      <td>23</td>\n",
              "      <td>94</td>\n",
              "      <td>28.1</td>\n",
              "      <td>0.167</td>\n",
              "      <td>21</td>\n",
              "      <td>0</td>\n",
              "    </tr>\n",
              "    <tr>\n",
              "      <th>4</th>\n",
              "      <td>0</td>\n",
              "      <td>137</td>\n",
              "      <td>40</td>\n",
              "      <td>35</td>\n",
              "      <td>168</td>\n",
              "      <td>43.1</td>\n",
              "      <td>2.288</td>\n",
              "      <td>33</td>\n",
              "      <td>1</td>\n",
              "    </tr>\n",
              "  </tbody>\n",
              "</table>\n",
              "</div>\n",
              "    <div class=\"colab-df-buttons\">\n",
              "\n",
              "  <div class=\"colab-df-container\">\n",
              "    <button class=\"colab-df-convert\" onclick=\"convertToInteractive('df-e0940e75-1bee-4fbc-b37e-a975450e23ed')\"\n",
              "            title=\"Convert this dataframe to an interactive table.\"\n",
              "            style=\"display:none;\">\n",
              "\n",
              "  <svg xmlns=\"http://www.w3.org/2000/svg\" height=\"24px\" viewBox=\"0 -960 960 960\">\n",
              "    <path d=\"M120-120v-720h720v720H120Zm60-500h600v-160H180v160Zm220 220h160v-160H400v160Zm0 220h160v-160H400v160ZM180-400h160v-160H180v160Zm440 0h160v-160H620v160ZM180-180h160v-160H180v160Zm440 0h160v-160H620v160Z\"/>\n",
              "  </svg>\n",
              "    </button>\n",
              "\n",
              "  <style>\n",
              "    .colab-df-container {\n",
              "      display:flex;\n",
              "      gap: 12px;\n",
              "    }\n",
              "\n",
              "    .colab-df-convert {\n",
              "      background-color: #E8F0FE;\n",
              "      border: none;\n",
              "      border-radius: 50%;\n",
              "      cursor: pointer;\n",
              "      display: none;\n",
              "      fill: #1967D2;\n",
              "      height: 32px;\n",
              "      padding: 0 0 0 0;\n",
              "      width: 32px;\n",
              "    }\n",
              "\n",
              "    .colab-df-convert:hover {\n",
              "      background-color: #E2EBFA;\n",
              "      box-shadow: 0px 1px 2px rgba(60, 64, 67, 0.3), 0px 1px 3px 1px rgba(60, 64, 67, 0.15);\n",
              "      fill: #174EA6;\n",
              "    }\n",
              "\n",
              "    .colab-df-buttons div {\n",
              "      margin-bottom: 4px;\n",
              "    }\n",
              "\n",
              "    [theme=dark] .colab-df-convert {\n",
              "      background-color: #3B4455;\n",
              "      fill: #D2E3FC;\n",
              "    }\n",
              "\n",
              "    [theme=dark] .colab-df-convert:hover {\n",
              "      background-color: #434B5C;\n",
              "      box-shadow: 0px 1px 3px 1px rgba(0, 0, 0, 0.15);\n",
              "      filter: drop-shadow(0px 1px 2px rgba(0, 0, 0, 0.3));\n",
              "      fill: #FFFFFF;\n",
              "    }\n",
              "  </style>\n",
              "\n",
              "    <script>\n",
              "      const buttonEl =\n",
              "        document.querySelector('#df-e0940e75-1bee-4fbc-b37e-a975450e23ed button.colab-df-convert');\n",
              "      buttonEl.style.display =\n",
              "        google.colab.kernel.accessAllowed ? 'block' : 'none';\n",
              "\n",
              "      async function convertToInteractive(key) {\n",
              "        const element = document.querySelector('#df-e0940e75-1bee-4fbc-b37e-a975450e23ed');\n",
              "        const dataTable =\n",
              "          await google.colab.kernel.invokeFunction('convertToInteractive',\n",
              "                                                    [key], {});\n",
              "        if (!dataTable) return;\n",
              "\n",
              "        const docLinkHtml = 'Like what you see? Visit the ' +\n",
              "          '<a target=\"_blank\" href=https://colab.research.google.com/notebooks/data_table.ipynb>data table notebook</a>'\n",
              "          + ' to learn more about interactive tables.';\n",
              "        element.innerHTML = '';\n",
              "        dataTable['output_type'] = 'display_data';\n",
              "        await google.colab.output.renderOutput(dataTable, element);\n",
              "        const docLink = document.createElement('div');\n",
              "        docLink.innerHTML = docLinkHtml;\n",
              "        element.appendChild(docLink);\n",
              "      }\n",
              "    </script>\n",
              "  </div>\n",
              "\n",
              "\n",
              "    <div id=\"df-ceb74327-8874-4379-a53e-61097f1a1a4a\">\n",
              "      <button class=\"colab-df-quickchart\" onclick=\"quickchart('df-ceb74327-8874-4379-a53e-61097f1a1a4a')\"\n",
              "                title=\"Suggest charts\"\n",
              "                style=\"display:none;\">\n",
              "\n",
              "<svg xmlns=\"http://www.w3.org/2000/svg\" height=\"24px\"viewBox=\"0 0 24 24\"\n",
              "     width=\"24px\">\n",
              "    <g>\n",
              "        <path d=\"M19 3H5c-1.1 0-2 .9-2 2v14c0 1.1.9 2 2 2h14c1.1 0 2-.9 2-2V5c0-1.1-.9-2-2-2zM9 17H7v-7h2v7zm4 0h-2V7h2v10zm4 0h-2v-4h2v4z\"/>\n",
              "    </g>\n",
              "</svg>\n",
              "      </button>\n",
              "\n",
              "<style>\n",
              "  .colab-df-quickchart {\n",
              "      --bg-color: #E8F0FE;\n",
              "      --fill-color: #1967D2;\n",
              "      --hover-bg-color: #E2EBFA;\n",
              "      --hover-fill-color: #174EA6;\n",
              "      --disabled-fill-color: #AAA;\n",
              "      --disabled-bg-color: #DDD;\n",
              "  }\n",
              "\n",
              "  [theme=dark] .colab-df-quickchart {\n",
              "      --bg-color: #3B4455;\n",
              "      --fill-color: #D2E3FC;\n",
              "      --hover-bg-color: #434B5C;\n",
              "      --hover-fill-color: #FFFFFF;\n",
              "      --disabled-bg-color: #3B4455;\n",
              "      --disabled-fill-color: #666;\n",
              "  }\n",
              "\n",
              "  .colab-df-quickchart {\n",
              "    background-color: var(--bg-color);\n",
              "    border: none;\n",
              "    border-radius: 50%;\n",
              "    cursor: pointer;\n",
              "    display: none;\n",
              "    fill: var(--fill-color);\n",
              "    height: 32px;\n",
              "    padding: 0;\n",
              "    width: 32px;\n",
              "  }\n",
              "\n",
              "  .colab-df-quickchart:hover {\n",
              "    background-color: var(--hover-bg-color);\n",
              "    box-shadow: 0 1px 2px rgba(60, 64, 67, 0.3), 0 1px 3px 1px rgba(60, 64, 67, 0.15);\n",
              "    fill: var(--button-hover-fill-color);\n",
              "  }\n",
              "\n",
              "  .colab-df-quickchart-complete:disabled,\n",
              "  .colab-df-quickchart-complete:disabled:hover {\n",
              "    background-color: var(--disabled-bg-color);\n",
              "    fill: var(--disabled-fill-color);\n",
              "    box-shadow: none;\n",
              "  }\n",
              "\n",
              "  .colab-df-spinner {\n",
              "    border: 2px solid var(--fill-color);\n",
              "    border-color: transparent;\n",
              "    border-bottom-color: var(--fill-color);\n",
              "    animation:\n",
              "      spin 1s steps(1) infinite;\n",
              "  }\n",
              "\n",
              "  @keyframes spin {\n",
              "    0% {\n",
              "      border-color: transparent;\n",
              "      border-bottom-color: var(--fill-color);\n",
              "      border-left-color: var(--fill-color);\n",
              "    }\n",
              "    20% {\n",
              "      border-color: transparent;\n",
              "      border-left-color: var(--fill-color);\n",
              "      border-top-color: var(--fill-color);\n",
              "    }\n",
              "    30% {\n",
              "      border-color: transparent;\n",
              "      border-left-color: var(--fill-color);\n",
              "      border-top-color: var(--fill-color);\n",
              "      border-right-color: var(--fill-color);\n",
              "    }\n",
              "    40% {\n",
              "      border-color: transparent;\n",
              "      border-right-color: var(--fill-color);\n",
              "      border-top-color: var(--fill-color);\n",
              "    }\n",
              "    60% {\n",
              "      border-color: transparent;\n",
              "      border-right-color: var(--fill-color);\n",
              "    }\n",
              "    80% {\n",
              "      border-color: transparent;\n",
              "      border-right-color: var(--fill-color);\n",
              "      border-bottom-color: var(--fill-color);\n",
              "    }\n",
              "    90% {\n",
              "      border-color: transparent;\n",
              "      border-bottom-color: var(--fill-color);\n",
              "    }\n",
              "  }\n",
              "</style>\n",
              "\n",
              "      <script>\n",
              "        async function quickchart(key) {\n",
              "          const quickchartButtonEl =\n",
              "            document.querySelector('#' + key + ' button');\n",
              "          quickchartButtonEl.disabled = true;  // To prevent multiple clicks.\n",
              "          quickchartButtonEl.classList.add('colab-df-spinner');\n",
              "          try {\n",
              "            const charts = await google.colab.kernel.invokeFunction(\n",
              "                'suggestCharts', [key], {});\n",
              "          } catch (error) {\n",
              "            console.error('Error during call to suggestCharts:', error);\n",
              "          }\n",
              "          quickchartButtonEl.classList.remove('colab-df-spinner');\n",
              "          quickchartButtonEl.classList.add('colab-df-quickchart-complete');\n",
              "        }\n",
              "        (() => {\n",
              "          let quickchartButtonEl =\n",
              "            document.querySelector('#df-ceb74327-8874-4379-a53e-61097f1a1a4a button');\n",
              "          quickchartButtonEl.style.display =\n",
              "            google.colab.kernel.accessAllowed ? 'block' : 'none';\n",
              "        })();\n",
              "      </script>\n",
              "    </div>\n",
              "\n",
              "    </div>\n",
              "  </div>\n"
            ],
            "application/vnd.google.colaboratory.intrinsic+json": {
              "type": "dataframe",
              "variable_name": "df",
              "summary": "{\n  \"name\": \"df\",\n  \"rows\": 768,\n  \"fields\": [\n    {\n      \"column\": \"Gravidanze\",\n      \"properties\": {\n        \"dtype\": \"number\",\n        \"std\": 3,\n        \"min\": 0,\n        \"max\": 17,\n        \"num_unique_values\": 17,\n        \"samples\": [\n          6,\n          1,\n          3\n        ],\n        \"semantic_type\": \"\",\n        \"description\": \"\"\n      }\n    },\n    {\n      \"column\": \"Glicemia\",\n      \"properties\": {\n        \"dtype\": \"number\",\n        \"std\": 31,\n        \"min\": 0,\n        \"max\": 199,\n        \"num_unique_values\": 136,\n        \"samples\": [\n          151,\n          101,\n          112\n        ],\n        \"semantic_type\": \"\",\n        \"description\": \"\"\n      }\n    },\n    {\n      \"column\": \"Pressione sanguigna\",\n      \"properties\": {\n        \"dtype\": \"number\",\n        \"std\": 19,\n        \"min\": 0,\n        \"max\": 122,\n        \"num_unique_values\": 47,\n        \"samples\": [\n          86,\n          46,\n          85\n        ],\n        \"semantic_type\": \"\",\n        \"description\": \"\"\n      }\n    },\n    {\n      \"column\": \"Spessore cutaneo\",\n      \"properties\": {\n        \"dtype\": \"number\",\n        \"std\": 15,\n        \"min\": 0,\n        \"max\": 99,\n        \"num_unique_values\": 51,\n        \"samples\": [\n          7,\n          12,\n          48\n        ],\n        \"semantic_type\": \"\",\n        \"description\": \"\"\n      }\n    },\n    {\n      \"column\": \"Insulina\",\n      \"properties\": {\n        \"dtype\": \"number\",\n        \"std\": 115,\n        \"min\": 0,\n        \"max\": 846,\n        \"num_unique_values\": 186,\n        \"samples\": [\n          52,\n          41,\n          183\n        ],\n        \"semantic_type\": \"\",\n        \"description\": \"\"\n      }\n    },\n    {\n      \"column\": \"Indice di Massa Corporea\",\n      \"properties\": {\n        \"dtype\": \"number\",\n        \"std\": 7.8841603203754405,\n        \"min\": 0.0,\n        \"max\": 67.1,\n        \"num_unique_values\": 248,\n        \"samples\": [\n          19.9,\n          31.0,\n          38.1\n        ],\n        \"semantic_type\": \"\",\n        \"description\": \"\"\n      }\n    },\n    {\n      \"column\": \"Funzione di predisposizione ereditaria\",\n      \"properties\": {\n        \"dtype\": \"number\",\n        \"std\": 0.33132859501277484,\n        \"min\": 0.078,\n        \"max\": 2.42,\n        \"num_unique_values\": 517,\n        \"samples\": [\n          1.731,\n          0.426,\n          0.138\n        ],\n        \"semantic_type\": \"\",\n        \"description\": \"\"\n      }\n    },\n    {\n      \"column\": \"Et\\u00e1\",\n      \"properties\": {\n        \"dtype\": \"number\",\n        \"std\": 11,\n        \"min\": 21,\n        \"max\": 81,\n        \"num_unique_values\": 52,\n        \"samples\": [\n          60,\n          47,\n          72\n        ],\n        \"semantic_type\": \"\",\n        \"description\": \"\"\n      }\n    },\n    {\n      \"column\": \"Esito\",\n      \"properties\": {\n        \"dtype\": \"number\",\n        \"std\": 0,\n        \"min\": 0,\n        \"max\": 1,\n        \"num_unique_values\": 2,\n        \"samples\": [\n          0,\n          1\n        ],\n        \"semantic_type\": \"\",\n        \"description\": \"\"\n      }\n    }\n  ]\n}"
            }
          },
          "metadata": {},
          "execution_count": 54
        }
      ]
    },
    {
      "cell_type": "code",
      "source": [
        "print(df.info())\n",
        "\n",
        "print(df.describe())\n",
        "\n",
        "#eventuali valori mancanti\n",
        "print(df.isnull().sum)"
      ],
      "metadata": {
        "colab": {
          "base_uri": "https://localhost:8080/"
        },
        "id": "DzTHAuo2Tvg7",
        "outputId": "bb91bc5a-7dfc-44cb-9d90-ce365cb78f70"
      },
      "execution_count": null,
      "outputs": [
        {
          "output_type": "stream",
          "name": "stdout",
          "text": [
            "<class 'pandas.core.frame.DataFrame'>\n",
            "RangeIndex: 768 entries, 0 to 767\n",
            "Data columns (total 9 columns):\n",
            " #   Column                                  Non-Null Count  Dtype  \n",
            "---  ------                                  --------------  -----  \n",
            " 0   Gravidanze                              768 non-null    int64  \n",
            " 1   Glicemia                                768 non-null    int64  \n",
            " 2   Pressione sanguigna                     768 non-null    int64  \n",
            " 3   Spessore cutaneo                        768 non-null    int64  \n",
            " 4   Insulina                                768 non-null    int64  \n",
            " 5   Indice di Massa Corporea                768 non-null    float64\n",
            " 6   Funzione di predisposizione ereditaria  768 non-null    float64\n",
            " 7   Etá                                     768 non-null    int64  \n",
            " 8   Esito                                   768 non-null    int64  \n",
            "dtypes: float64(2), int64(7)\n",
            "memory usage: 54.1 KB\n",
            "None\n",
            "       Gravidanze    Glicemia  ...         Etá       Esito\n",
            "count  768.000000  768.000000  ...  768.000000  768.000000\n",
            "mean     3.845052  120.894531  ...   33.240885    0.348958\n",
            "std      3.369578   31.972618  ...   11.760232    0.476951\n",
            "min      0.000000    0.000000  ...   21.000000    0.000000\n",
            "25%      1.000000   99.000000  ...   24.000000    0.000000\n",
            "50%      3.000000  117.000000  ...   29.000000    0.000000\n",
            "75%      6.000000  140.250000  ...   41.000000    1.000000\n",
            "max     17.000000  199.000000  ...   81.000000    1.000000\n",
            "\n",
            "[8 rows x 9 columns]\n",
            "<bound method DataFrame.sum of      Gravidanze  Glicemia  ...    Etá  Esito\n",
            "0         False     False  ...  False  False\n",
            "1         False     False  ...  False  False\n",
            "2         False     False  ...  False  False\n",
            "3         False     False  ...  False  False\n",
            "4         False     False  ...  False  False\n",
            "..          ...       ...  ...    ...    ...\n",
            "763       False     False  ...  False  False\n",
            "764       False     False  ...  False  False\n",
            "765       False     False  ...  False  False\n",
            "766       False     False  ...  False  False\n",
            "767       False     False  ...  False  False\n",
            "\n",
            "[768 rows x 9 columns]>\n"
          ]
        }
      ]
    },
    {
      "cell_type": "markdown",
      "source": [
        "Nelle colonne con valori come la glicemia, lo 0 non indica valore nullo, bensí dati mancanti.\n",
        "Calcolo quindi la mediana  e la sostituisco ai valori nulli per evitare interpretazioni errate"
      ],
      "metadata": {
        "id": "pdtHsqoD7p7g"
      }
    },
    {
      "cell_type": "code",
      "execution_count": null,
      "metadata": {
        "colab": {
          "base_uri": "https://localhost:8080/"
        },
        "id": "MSgl125VTTnB",
        "outputId": "c6c70b32-5c2f-4694-d11d-97b5321c2ed2"
      },
      "outputs": [
        {
          "output_type": "stream",
          "name": "stdout",
          "text": [
            "Colonna Glicemia ha  5 valori zero\n",
            "Colonna Pressione sanguigna ha  35 valori zero\n",
            "Colonna Spessore cutaneo ha  227 valori zero\n",
            "Colonna Insulina ha  374 valori zero\n",
            "Colonna Indice di Massa Corporea ha  11 valori zero\n",
            "       Gravidanze    Glicemia  ...         Etá       Esito\n",
            "count  768.000000  768.000000  ...  768.000000  768.000000\n",
            "mean     3.845052  121.656250  ...   33.240885    0.348958\n",
            "std      3.369578   30.438286  ...   11.760232    0.476951\n",
            "min      0.000000   44.000000  ...   21.000000    0.000000\n",
            "25%      1.000000   99.750000  ...   24.000000    0.000000\n",
            "50%      3.000000  117.000000  ...   29.000000    0.000000\n",
            "75%      6.000000  140.250000  ...   41.000000    1.000000\n",
            "max     17.000000  199.000000  ...   81.000000    1.000000\n",
            "\n",
            "[8 rows x 9 columns]\n"
          ]
        }
      ],
      "source": [
        "cols_zero_missing= ['Glicemia',\n",
        "                    'Pressione sanguigna',\n",
        "                    'Spessore cutaneo',\n",
        "                    'Insulina',\n",
        "                    'Indice di Massa Corporea']\n",
        "\n",
        "for col in cols_zero_missing:\n",
        "  zero_count=(df[col]==0).sum()\n",
        "  print(f'Colonna {col} ha  {zero_count} valori zero')\n",
        "\n",
        "for col in cols_zero_missing:\n",
        "  median=df[col].median()\n",
        "  df[col]= df[col].replace(0, median)\n",
        "\n",
        "print(df.describe())"
      ]
    },
    {
      "cell_type": "markdown",
      "source": [
        " Preparazione del dataset: separazione, suddivisione in training e test set, normalizzazione\n",
        "\n",
        "---\n",
        "\n",
        "\n"
      ],
      "metadata": {
        "id": "Sq1qkJdg-WEA"
      }
    },
    {
      "cell_type": "code",
      "source": [
        "from sklearn.preprocessing import StandardScaler #Standardizzo i dati\n",
        "\n",
        "X=df.drop('Esito', axis=1)\n",
        "y=df['Esito']\n",
        "\n",
        "#Per addestrare un modello, é necessario dividere i dati in training e test set.\n",
        "#Il nostro dataset sará diviso in training set (80%) e test set (20%)\n",
        "\n",
        "X_train, X_test, y_train, y_test= train_test_split(X, y, test_size=0.2, random_state=17)\n",
        "\n",
        "scaler= StandardScaler()\n",
        "\n",
        "#Fit e trasformazione\n",
        "X_train= scaler.fit_transform(X_train)\n",
        "X_test= scaler.transform(X_test)\n",
        "\n",
        "print(f'Dimensione del Training set: {X_train.shape}') #614 pazienti  nel training\n",
        "print(f'Dimensione del Test set: {X_test.shape}') #154 pazienti"
      ],
      "metadata": {
        "colab": {
          "base_uri": "https://localhost:8080/"
        },
        "id": "wiOX6di_bO4Q",
        "outputId": "1f72f5cb-d8bc-416f-b0ae-ec507f06ac64"
      },
      "execution_count": null,
      "outputs": [
        {
          "output_type": "stream",
          "name": "stdout",
          "text": [
            "Dimensione del Training set: (614, 8)\n",
            "Dimensione del Test set: (154, 8)\n"
          ]
        }
      ]
    },
    {
      "cell_type": "markdown",
      "source": [
        "Fitting e valutazione della performance del modello"
      ],
      "metadata": {
        "id": "JWs9wSXGAans"
      }
    },
    {
      "cell_type": "code",
      "source": [
        "model= Perceptron(max_iter=1000, random_state=17)\n",
        "model.fit(X_train, y_train)\n",
        "\n",
        "y_pred= model.predict(X_test)\n",
        "\n",
        "test_accuracy= model.score(X_test, y_test)\n",
        "print(f'Accuracy del modello sul test set: {test_accuracy:2f}')\n"
      ],
      "metadata": {
        "colab": {
          "base_uri": "https://localhost:8080/"
        },
        "id": "LTf1RNJBlh3D",
        "outputId": "f936fa9a-74d0-4b53-910e-2a3995b08683"
      },
      "execution_count": null,
      "outputs": [
        {
          "output_type": "stream",
          "name": "stdout",
          "text": [
            "Accuracy del modello sul test set: 0.629870\n"
          ]
        }
      ]
    },
    {
      "cell_type": "markdown",
      "source": [
        "Recall score: mostra i veri positivi"
      ],
      "metadata": {
        "id": "0g-ZuO23LIFp"
      }
    },
    {
      "cell_type": "code",
      "source": [
        "from sklearn.metrics import recall_score\n",
        "\n",
        "recall= recall_score(y_test, y_pred)\n",
        "print(f'Recall del modello sul test set: {recall:2f}')"
      ],
      "metadata": {
        "colab": {
          "base_uri": "https://localhost:8080/"
        },
        "id": "BcCQiLfdLUjX",
        "outputId": "f4643da3-8a23-495a-ee73-e79020b20c22"
      },
      "execution_count": null,
      "outputs": [
        {
          "output_type": "stream",
          "name": "stdout",
          "text": [
            "Recall del modello sul test set: 0.666667\n"
          ]
        }
      ]
    },
    {
      "cell_type": "markdown",
      "source": [
        "False positive rate: indica i falsi positivi"
      ],
      "metadata": {
        "id": "VUwFSfTJMHOl"
      }
    },
    {
      "cell_type": "code",
      "source": [
        "fpr= 1- recall\n",
        "print(f'False positive rate del modello sul test set: {fpr:2f}')"
      ],
      "metadata": {
        "colab": {
          "base_uri": "https://localhost:8080/"
        },
        "id": "jLv-u-MvMPcP",
        "outputId": "8cac7be7-2eda-4bea-89c1-40990c7da2f6"
      },
      "execution_count": null,
      "outputs": [
        {
          "output_type": "stream",
          "name": "stdout",
          "text": [
            "False positive rate del modello sul test set: 0.333333\n"
          ]
        }
      ]
    },
    {
      "cell_type": "markdown",
      "source": [
        "La matrice di confusione ci aiuta a evidenziare i falsi positivi e i falsi negativi. Possiamo cosí capire meglio dove il modello commette errori di classificazione"
      ],
      "metadata": {
        "id": "nQohc0jQAtVu"
      }
    },
    {
      "cell_type": "code",
      "source": [
        "import matplotlib.pyplot as plt\n",
        "import seaborn as sns\n",
        "\n",
        "y_pred= model.predict(X_test)\n",
        "\n",
        "c_matrix= confusion_matrix(y_test, y_pred)\n",
        "\n",
        "plt.figure(figsize=(5,4))\n",
        "sns.heatmap(c_matrix, annot=True, fmt='d', cmap='cool', cbar=False)\n",
        "plt.xlabel('Valore predetto')\n",
        "plt.ylabel('Valore reale')\n",
        "plt.title('Matrice di confusione')\n",
        "plt.show()"
      ],
      "metadata": {
        "colab": {
          "base_uri": "https://localhost:8080/",
          "height": 410
        },
        "id": "48d7gnOvtBKX",
        "outputId": "957034d0-2f37-4e94-da60-44bf78274ef4"
      },
      "execution_count": null,
      "outputs": [
        {
          "output_type": "display_data",
          "data": {
            "text/plain": [
              "<Figure size 500x400 with 1 Axes>"
            ],
            "image/png": "[encoded data removed]"
          },
          "metadata": {}
        }
      ]
    }
  ]
}